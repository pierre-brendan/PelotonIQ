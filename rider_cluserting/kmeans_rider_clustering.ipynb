{
  "nbformat": 4,
  "nbformat_minor": 0,
  "metadata": {
    "colab": {
      "name": "kmeans_rider_clustering.ipynb",
      "provenance": [],
      "collapsed_sections": [],
      "authorship_tag": "ABX9TyNBwhVOqsC/1z4emcy2JAYa",
      "include_colab_link": true
    },
    "kernelspec": {
      "name": "python3",
      "display_name": "Python 3"
    }
  },
  "cells": [
    {
      "cell_type": "markdown",
      "metadata": {
        "id": "view-in-github",
        "colab_type": "text"
      },
      "source": [
        "<a href=\"https://colab.research.google.com/github/pierre-brendan/PelotonIQ/blob/master/rider_cluserting/kmeans_rider_clustering.ipynb\" target=\"_parent\"><img src=\"https://colab.research.google.com/assets/colab-badge.svg\" alt=\"Open In Colab\"/></a>"
      ]
    },
    {
      "cell_type": "markdown",
      "metadata": {
        "id": "j4z-8GPkzAk7",
        "colab_type": "text"
      },
      "source": [
        "# Rider Clustering"
      ]
    },
    {
      "cell_type": "code",
      "metadata": {
        "id": "9JWmE0qmDhXl",
        "colab_type": "code",
        "colab": {}
      },
      "source": [
        "## install the packages I need for this\n",
        "# !pip install sklearn"
      ],
      "execution_count": 0,
      "outputs": []
    },
    {
      "cell_type": "code",
      "metadata": {
        "id": "VeTvPxXczY7S",
        "colab_type": "code",
        "colab": {}
      },
      "source": [
        "# Mount drive to get cyclist links\n",
        "from google.colab import drive\n",
        "drive.mount('/content/drive')"
      ],
      "execution_count": 0,
      "outputs": []
    },
    {
      "cell_type": "code",
      "metadata": {
        "id": "hHUcBdtRzH9t",
        "colab_type": "code",
        "outputId": "84e9e4c5-3fb5-4238-9b62-c897540ab81c",
        "colab": {
          "base_uri": "https://localhost:8080/",
          "height": 283
        }
      },
      "source": [
        "# load modules\n",
        "import pandas as pd\n",
        "import matplotlib.pyplot as plt\n",
        "from sklearn.cluster import KMeans\n",
        "from sklearn import preprocessing\n",
        "\n",
        "# load the data\n",
        "cycling_data = pd.read_csv('/content/drive/My Drive/cycling_data/rider_data.csv')\n",
        "cycling_data = cycling_data[cycling_data['Rider'] != 'Bjorg Lambrecht ']\n",
        "cycling_data = cycling_data[cycling_data['Rider'] != 'Robbert de Greef ']\n",
        "\n",
        "# make a df without cyclist name in it for clustering\n",
        "cycling_data.head()\n",
        "d = cycling_data.drop(['Rider', 'Team', 'crawl_date'], axis=1)\n",
        "\n",
        "# let's normalize the data\n",
        "d['GC'] = preprocessing.scale(d['GC'])\n",
        "d['Sprint'] = preprocessing.scale(d['Sprint'])\n",
        "d['TT'] = preprocessing.scale(d['TT'])\n",
        "d['Climber'] = preprocessing.scale(d['Climber'])\n",
        "d['Classic'] = preprocessing.scale(d['Classic'])\n",
        "d['Age'] = preprocessing.scale(d['Age'])\n",
        "\n",
        "# let's go with 8 clusters to start\n",
        "m = KMeans(8)\n",
        "m.fit(d)\n",
        "\n",
        "# Add to our data frame\n",
        "d['Cluster'] = m.labels_\n",
        "\n",
        "# join back to original data set on index\n",
        "cycling_data2 = pd.merge(cycling_data, d, left_index=True, right_index=True)\n",
        "\n",
        "# Review the data\n",
        "#cycling_data2.head()\n",
        "\n",
        "# Total errors and # of clusters\n",
        "dist_points_from_cluster_center = []\n",
        "K = range(1,12)\n",
        "for no_of_clusters in K:\n",
        "  k_model = KMeans(n_clusters=no_of_clusters)\n",
        "  k_model.fit(d)\n",
        "  dist_points_from_cluster_center.append(k_model.inertia_)\n",
        "plt.plot(K, dist_points_from_cluster_center)\n",
        "# Elbow is at 2-4ish, might test 8 though\n",
        "# 8 seems solid when I review the results\n"
      ],
      "execution_count": 0,
      "outputs": [
        {
          "output_type": "execute_result",
          "data": {
            "text/plain": [
              "[<matplotlib.lines.Line2D at 0x7f70e9a69e80>]"
            ]
          },
          "metadata": {
            "tags": []
          },
          "execution_count": 3
        },
        {
          "output_type": "display_data",
          "data": {
            "image/png": "[encoded data removed]",
            "text/plain": [
              "<Figure size 432x288 with 1 Axes>"
            ]
          },
          "metadata": {
            "tags": []
          }
        }
      ]
    },
    {
      "cell_type": "code",
      "metadata": {
        "id": "o5OiC4qIwCWZ",
        "colab_type": "code",
        "colab": {}
      },
      "source": [
        "# Let's roll up the avg of of each attribute to see what the clusters made\n",
        "#cycling_data2.head()\n",
        "z = cycling_data2.groupby(['Cluster']).mean()\n",
        "cycling_data2.to_csv('test_data.csv', index=False)"
      ],
      "execution_count": 0,
      "outputs": []
    },
    {
      "cell_type": "markdown",
      "metadata": {
        "id": "IaSN8bf_c8v1",
        "colab_type": "text"
      },
      "source": [
        "# Conclusions"
      ]
    },
    {
      "cell_type": "markdown",
      "metadata": {
        "id": "e3XNs80hceuZ",
        "colab_type": "text"
      },
      "source": [
        "Generally results are solid given the inputs. There is one cluster that has a ton of meh riders in it but also serious up and coming riders. I think adding stage wins, classic wins and GC wins will make this clustering project much more accurate.\n",
        "\n",
        "Once I have those fields, I will revist this project and update it."
      ]
    },
    {
      "cell_type": "markdown",
      "metadata": {
        "id": "3q5E9U1HImtn",
        "colab_type": "text"
      },
      "source": [
        "# Updated Clustering Model, now includes Monuments and GC winners"
      ]
    },
    {
      "cell_type": "code",
      "metadata": {
        "id": "Z34_iQBDImSa",
        "colab_type": "code",
        "colab": {}
      },
      "source": [
        "# Mount drive to get cyclist links\n",
        "from google.colab import drive\n",
        "drive.mount('/content/drive')"
      ],
      "execution_count": 0,
      "outputs": []
    },
    {
      "cell_type": "code",
      "metadata": {
        "id": "8dL2oxc-I8Ex",
        "colab_type": "code",
        "colab": {
          "base_uri": "https://localhost:8080/",
          "height": 347
        },
        "outputId": "2532f586-3d8f-4215-c408-646bcc9af8be"
      },
      "source": [
        "# load modules\n",
        "import pandas as pd\n",
        "import matplotlib.pyplot as plt\n",
        "from sklearn.cluster import KMeans\n",
        "from sklearn import preprocessing\n",
        "\n",
        "# load the rider data\n",
        "cycling_data = pd.read_csv('/content/drive/My Drive/cycling_data/rider_data.csv')\n",
        "cycling_data = cycling_data[cycling_data['Rider'] != 'Bjorg Lambrecht ']\n",
        "cycling_data = cycling_data[cycling_data['Rider'] != 'Robbert de Greef ']\n",
        "\n",
        "# Load the GC data\n",
        "gc_winners = pd.read_csv('/content/drive/My Drive/cycling_data/Historical_GC_Classics_Results/gc_winners_consolidated.csv')\n",
        "gc_winners.rename(columns = {'Cyclist':'Rider'}, inplace = True)\n",
        "\n",
        "# Merge the GC winners to the rider data set\n",
        "cycling_data = pd.merge(cycling_data, gc_winners, how='left', on='Rider')\n",
        "\n",
        "# Load in the Monuments data\n",
        "san_remo = pd.read_csv('/content/drive/My Drive/cycling_data/Historical_GC_Classics_Results/san_remo.csv')\n",
        "san_remo = san_remo['san_remo_win'].groupby(san_remo['Rider']).sum()\n",
        "roubaix = pd.read_csv('/content/drive/My Drive/cycling_data/Historical_GC_Classics_Results/roubaix.csv')\n",
        "roubaix = roubaix['roubaix_win'].groupby(roubaix['Rider']).sum()\n",
        "flanders = pd.read_csv('/content/drive/My Drive/cycling_data/Historical_GC_Classics_Results/flanders.csv')\n",
        "flanders = flanders['flanders_win'].groupby(flanders['Rider']).sum()\n",
        "lombardia = pd.read_csv('/content/drive/My Drive/cycling_data/Historical_GC_Classics_Results/lombardia.csv')\n",
        "lombardia = lombardia['lombardia_win'].groupby(lombardia['Rider']).sum()\n",
        "liege = pd.read_csv('/content/drive/My Drive/cycling_data/Historical_GC_Classics_Results/liege.csv')\n",
        "liege = liege['lbl_win'].groupby(liege['Rider']).sum()\n",
        "\n",
        "# Merge the Monuments winners to the rider data set\n",
        "cycling_data = pd.merge(cycling_data, san_remo, how='left', on='Rider')\n",
        "cycling_data = pd.merge(cycling_data, flanders, how='left', on='Rider')\n",
        "cycling_data = pd.merge(cycling_data, liege, how='left', on='Rider')\n",
        "cycling_data = pd.merge(cycling_data, lombardia, how='left', on='Rider')\n",
        "cycling_data = pd.merge(cycling_data, roubaix, how='left', on='Rider')\n",
        "\n",
        "# Replace NaN with 0's\n",
        "cycling_data.fillna(0, inplace=True)\n",
        "\n",
        "# Drop country variable\n",
        "cycling_data = cycling_data.drop(['Country', 'crawl_date'], axis = 1)\n",
        "\n",
        "cycling_data.head()\n"
      ],
      "execution_count": 18,
      "outputs": [
        {
          "output_type": "execute_result",
          "data": {
            "text/html": [
              "<div>\n",
              "<style scoped>\n",
              "    .dataframe tbody tr th:only-of-type {\n",
              "        vertical-align: middle;\n",
              "    }\n",
              "\n",
              "    .dataframe tbody tr th {\n",
              "        vertical-align: top;\n",
              "    }\n",
              "\n",
              "    .dataframe thead th {\n",
              "        text-align: right;\n",
              "    }\n",
              "</style>\n",
              "<table border=\"1\" class=\"dataframe\">\n",
              "  <thead>\n",
              "    <tr style=\"text-align: right;\">\n",
              "      <th></th>\n",
              "      <th>Rider</th>\n",
              "      <th>Team</th>\n",
              "      <th>GC</th>\n",
              "      <th>TT</th>\n",
              "      <th>Sprint</th>\n",
              "      <th>Climber</th>\n",
              "      <th>Classic</th>\n",
              "      <th>Age</th>\n",
              "      <th>Giro</th>\n",
              "      <th>Tour</th>\n",
              "      <th>Vuelta</th>\n",
              "      <th>Total</th>\n",
              "      <th>san_remo_win</th>\n",
              "      <th>flanders_win</th>\n",
              "      <th>lbl_win</th>\n",
              "      <th>lombardia_win</th>\n",
              "      <th>roubaix_win</th>\n",
              "    </tr>\n",
              "  </thead>\n",
              "  <tbody>\n",
              "    <tr>\n",
              "      <th>0</th>\n",
              "      <td>Primož Roglič</td>\n",
              "      <td>Team Jumbo-Visma</td>\n",
              "      <td>3581</td>\n",
              "      <td>2491</td>\n",
              "      <td>214</td>\n",
              "      <td>2572</td>\n",
              "      <td>512</td>\n",
              "      <td>30</td>\n",
              "      <td>0.0</td>\n",
              "      <td>0.0</td>\n",
              "      <td>1.0</td>\n",
              "      <td>1.0</td>\n",
              "      <td>0.0</td>\n",
              "      <td>0.0</td>\n",
              "      <td>0.0</td>\n",
              "      <td>0.0</td>\n",
              "      <td>0.0</td>\n",
              "    </tr>\n",
              "    <tr>\n",
              "      <th>1</th>\n",
              "      <td>Julian Alaphilippe</td>\n",
              "      <td>Deceuninck - Quick Step</td>\n",
              "      <td>1808</td>\n",
              "      <td>995</td>\n",
              "      <td>1326</td>\n",
              "      <td>3364</td>\n",
              "      <td>3470</td>\n",
              "      <td>27</td>\n",
              "      <td>0.0</td>\n",
              "      <td>0.0</td>\n",
              "      <td>0.0</td>\n",
              "      <td>0.0</td>\n",
              "      <td>1.0</td>\n",
              "      <td>0.0</td>\n",
              "      <td>0.0</td>\n",
              "      <td>0.0</td>\n",
              "      <td>0.0</td>\n",
              "    </tr>\n",
              "    <tr>\n",
              "      <th>2</th>\n",
              "      <td>Alejandro Valverde</td>\n",
              "      <td>Movistar Team</td>\n",
              "      <td>12065</td>\n",
              "      <td>4575</td>\n",
              "      <td>5474</td>\n",
              "      <td>13660</td>\n",
              "      <td>11753</td>\n",
              "      <td>39</td>\n",
              "      <td>0.0</td>\n",
              "      <td>0.0</td>\n",
              "      <td>1.0</td>\n",
              "      <td>1.0</td>\n",
              "      <td>0.0</td>\n",
              "      <td>0.0</td>\n",
              "      <td>4.0</td>\n",
              "      <td>0.0</td>\n",
              "      <td>0.0</td>\n",
              "    </tr>\n",
              "    <tr>\n",
              "      <th>3</th>\n",
              "      <td>Jakob Fuglsang</td>\n",
              "      <td>Astana Pro Team</td>\n",
              "      <td>5445</td>\n",
              "      <td>1371</td>\n",
              "      <td>817</td>\n",
              "      <td>4845</td>\n",
              "      <td>2674</td>\n",
              "      <td>34</td>\n",
              "      <td>0.0</td>\n",
              "      <td>0.0</td>\n",
              "      <td>0.0</td>\n",
              "      <td>0.0</td>\n",
              "      <td>0.0</td>\n",
              "      <td>0.0</td>\n",
              "      <td>1.0</td>\n",
              "      <td>0.0</td>\n",
              "      <td>0.0</td>\n",
              "    </tr>\n",
              "    <tr>\n",
              "      <th>4</th>\n",
              "      <td>Egan Bernal</td>\n",
              "      <td>Team INEOS</td>\n",
              "      <td>2371</td>\n",
              "      <td>406</td>\n",
              "      <td>156</td>\n",
              "      <td>1889</td>\n",
              "      <td>677</td>\n",
              "      <td>23</td>\n",
              "      <td>0.0</td>\n",
              "      <td>1.0</td>\n",
              "      <td>0.0</td>\n",
              "      <td>1.0</td>\n",
              "      <td>0.0</td>\n",
              "      <td>0.0</td>\n",
              "      <td>0.0</td>\n",
              "      <td>0.0</td>\n",
              "      <td>0.0</td>\n",
              "    </tr>\n",
              "  </tbody>\n",
              "</table>\n",
              "</div>"
            ],
            "text/plain": [
              "                Rider                     Team  ...  lombardia_win  roubaix_win\n",
              "0       Primož Roglič         Team Jumbo-Visma  ...            0.0          0.0\n",
              "1  Julian Alaphilippe  Deceuninck - Quick Step  ...            0.0          0.0\n",
              "2  Alejandro Valverde            Movistar Team  ...            0.0          0.0\n",
              "3      Jakob Fuglsang          Astana Pro Team  ...            0.0          0.0\n",
              "4         Egan Bernal               Team INEOS  ...            0.0          0.0\n",
              "\n",
              "[5 rows x 17 columns]"
            ]
          },
          "metadata": {
            "tags": []
          },
          "execution_count": 18
        }
      ]
    },
    {
      "cell_type": "code",
      "metadata": {
        "id": "i3ikLLRzM-ql",
        "colab_type": "code",
        "colab": {}
      },
      "source": [
        "# make a df without cyclist name in it for clustering\n",
        "d = cycling_data.drop(['Rider', 'Team'], axis=1)\n",
        "\n",
        "# let's normalize the data\n",
        "d['GC'] = preprocessing.scale(d['GC'])\n",
        "d['Sprint'] = preprocessing.scale(d['Sprint'])\n",
        "d['TT'] = preprocessing.scale(d['TT'])\n",
        "d['Climber'] = preprocessing.scale(d['Climber'])\n",
        "d['Classic'] = preprocessing.scale(d['Classic'])\n",
        "d['Age'] = preprocessing.scale(d['Age'])\n",
        "d['Giro'] = preprocessing.scale(d['Giro'])\n",
        "d['Vuelta'] = preprocessing.scale(d['Vuelta'])\n",
        "d['Tour'] = preprocessing.scale(d['Tour'])\n",
        "d['Total'] = preprocessing.scale(d['Total'])\n",
        "d['san_remo_win'] = preprocessing.scale(d['san_remo_win'])\n",
        "d['lombardia_win'] = preprocessing.scale(d['lombardia_win'])\n",
        "d['flanders_win'] = preprocessing.scale(d['flanders_win'])\n",
        "d['lbl_win'] = preprocessing.scale(d['lbl_win'])\n",
        "d['roubaix_win'] = preprocessing.scale(d['roubaix_win'])\n",
        "\n",
        "# let's go with 6 clusters to start\n",
        "m = KMeans(6)\n",
        "m.fit(d)\n",
        "\n",
        "# Add to our data frame\n",
        "d['Cluster'] = m.labels_\n",
        "\n",
        "# join back to original data set on index\n",
        "cycling_data2 = pd.merge(cycling_data, d, left_index=True, right_index=True)\n",
        "\n",
        "# Review the data\n",
        "#cycling_data2.head()\n",
        "\n",
        "# Total errors and # of clusters\n",
        "dist_points_from_cluster_center = []\n",
        "K = range(1,12)\n",
        "for no_of_clusters in K:\n",
        "  k_model = KMeans(n_clusters=no_of_clusters)\n",
        "  k_model.fit(d)\n",
        "  dist_points_from_cluster_center.append(k_model.inertia_)\n",
        "plt.plot(K, dist_points_from_cluster_center)\n",
        "# Elbow looks more like at 6 now\n"
      ],
      "execution_count": 0,
      "outputs": []
    },
    {
      "cell_type": "code",
      "metadata": {
        "id": "_9kpVeLNSo4a",
        "colab_type": "code",
        "colab": {}
      },
      "source": [
        "cycling_data2.to_csv('cluster_2.csv', index=False)\n",
        "\n",
        "\n"
      ],
      "execution_count": 0,
      "outputs": []
    }
  ]
}