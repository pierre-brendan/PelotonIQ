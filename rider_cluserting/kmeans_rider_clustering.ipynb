{
  "nbformat": 4,
  "nbformat_minor": 0,
  "metadata": {
    "colab": {
      "name": "kmeans_rider_clustering.ipynb",
      "provenance": [],
      "collapsed_sections": [],
      "authorship_tag": "ABX9TyNRZa62yPBU2G5Yc5NtcTYw",
      "include_colab_link": true
    },
    "kernelspec": {
      "name": "python3",
      "display_name": "Python 3"
    }
  },
  "cells": [
    {
      "cell_type": "markdown",
      "metadata": {
        "id": "view-in-github",
        "colab_type": "text"
      },
      "source": [
        "<a href=\"https://colab.research.google.com/github/pierre-brendan/PelotonIQ/blob/master/rider_cluserting/kmeans_rider_clustering.ipynb\" target=\"_parent\"><img src=\"https://colab.research.google.com/assets/colab-badge.svg\" alt=\"Open In Colab\"/></a>"
      ]
    },
    {
      "cell_type": "markdown",
      "metadata": {
        "id": "j4z-8GPkzAk7",
        "colab_type": "text"
      },
      "source": [
        "# Rider Clustering"
      ]
    },
    {
      "cell_type": "code",
      "metadata": {
        "id": "9JWmE0qmDhXl",
        "colab_type": "code",
        "colab": {}
      },
      "source": [
        "## install the packages I need for this\n",
        "# !pip install sklearn"
      ],
      "execution_count": 0,
      "outputs": []
    },
    {
      "cell_type": "code",
      "metadata": {
        "id": "VeTvPxXczY7S",
        "colab_type": "code",
        "colab": {}
      },
      "source": [
        "# Mount drive to get cyclist data\n",
        "from google.colab import drive\n",
        "drive.mount('/content/drive')"
      ],
      "execution_count": 0,
      "outputs": []
    },
    {
      "cell_type": "code",
      "metadata": {
        "id": "hHUcBdtRzH9t",
        "colab_type": "code",
        "outputId": "84e9e4c5-3fb5-4238-9b62-c897540ab81c",
        "colab": {
          "base_uri": "https://localhost:8080/",
          "height": 283
        }
      },
      "source": [
        "# load modules\n",
        "import pandas as pd\n",
        "import matplotlib.pyplot as plt\n",
        "from sklearn.cluster import KMeans\n",
        "from sklearn import preprocessing\n",
        "\n",
        "# load the data\n",
        "cycling_data = pd.read_csv('/content/drive/My Drive/cycling_data/rider_data.csv')\n",
        "cycling_data = cycling_data[cycling_data['Rider'] != 'Bjorg Lambrecht ']\n",
        "cycling_data = cycling_data[cycling_data['Rider'] != 'Robbert de Greef ']\n",
        "\n",
        "# make a df without cyclist name in it for clustering\n",
        "cycling_data.head()\n",
        "d = cycling_data.drop(['Rider', 'Team', 'crawl_date'], axis=1)\n",
        "\n",
        "# let's normalize the data\n",
        "d['GC'] = preprocessing.scale(d['GC'])\n",
        "d['Sprint'] = preprocessing.scale(d['Sprint'])\n",
        "d['TT'] = preprocessing.scale(d['TT'])\n",
        "d['Climber'] = preprocessing.scale(d['Climber'])\n",
        "d['Classic'] = preprocessing.scale(d['Classic'])\n",
        "d['Age'] = preprocessing.scale(d['Age'])\n",
        "\n",
        "# let's go with 8 clusters to start\n",
        "m = KMeans(8)\n",
        "m.fit(d)\n",
        "\n",
        "# Add to our data frame\n",
        "d['Cluster'] = m.labels_\n",
        "\n",
        "# join back to original data set on index\n",
        "cycling_data2 = pd.merge(cycling_data, d, left_index=True, right_index=True)\n",
        "\n",
        "# Review the data\n",
        "#cycling_data2.head()\n",
        "\n",
        "# Total errors and # of clusters\n",
        "dist_points_from_cluster_center = []\n",
        "K = range(1,12)\n",
        "for no_of_clusters in K:\n",
        "  k_model = KMeans(n_clusters=no_of_clusters)\n",
        "  k_model.fit(d)\n",
        "  dist_points_from_cluster_center.append(k_model.inertia_)\n",
        "plt.plot(K, dist_points_from_cluster_center)\n",
        "# Elbow is at 2-4ish, might test 8 though\n",
        "# 8 seems solid when I review the results\n"
      ],
      "execution_count": 0,
      "outputs": [
        {
          "output_type": "execute_result",
          "data": {
            "text/plain": [
              "[<matplotlib.lines.Line2D at 0x7f70e9a69e80>]"
            ]
          },
          "metadata": {
            "tags": []
          },
          "execution_count": 3
        },
        {
          "output_type": "display_data",
          "data": {
            "image/png": "[encoded data removed]",
            "text/plain": [
              "<Figure size 432x288 with 1 Axes>"
            ]
          },
          "metadata": {
            "tags": []
          }
        }
      ]
    },
    {
      "cell_type": "code",
      "metadata": {
        "id": "o5OiC4qIwCWZ",
        "colab_type": "code",
        "colab": {}
      },
      "source": [
        "# Let's roll up the avg of of each attribute to see what the clusters made\n",
        "#cycling_data2.head()\n",
        "z = cycling_data2.groupby(['Cluster']).mean()\n",
        "cycling_data2.to_csv('test_data.csv', index=False)"
      ],
      "execution_count": 0,
      "outputs": []
    },
    {
      "cell_type": "markdown",
      "metadata": {
        "id": "IaSN8bf_c8v1",
        "colab_type": "text"
      },
      "source": [
        "# Conclusions"
      ]
    },
    {
      "cell_type": "markdown",
      "metadata": {
        "id": "e3XNs80hceuZ",
        "colab_type": "text"
      },
      "source": [
        "Generally results are solid given the inputs. There is one cluster that has a ton of meh riders in it but also serious up and coming riders. I think adding stage wins, classic wins and GC wins will make this clustering project much more accurate.\n",
        "\n",
        "Once I have those fields, I will revist this project and update it."
      ]
    },
    {
      "cell_type": "markdown",
      "metadata": {
        "id": "3q5E9U1HImtn",
        "colab_type": "text"
      },
      "source": [
        "# Updated Clustering Model, now includes Monuments and GC winners"
      ]
    },
    {
      "cell_type": "code",
      "metadata": {
        "id": "Z34_iQBDImSa",
        "colab_type": "code",
        "colab": {}
      },
      "source": [
        "# Mount drive to get cyclist data\n",
        "from google.colab import drive\n",
        "drive.mount('/content/drive')"
      ],
      "execution_count": 0,
      "outputs": []
    },
    {
      "cell_type": "code",
      "metadata": {
        "id": "8dL2oxc-I8Ex",
        "colab_type": "code",
        "colab": {}
      },
      "source": [
        "#-*- coding: UTF-8 -*-\n",
        "\n",
        "# load modules\n",
        "import pandas as pd\n",
        "import matplotlib.pyplot as plt\n",
        "from sklearn.cluster import KMeans\n",
        "from sklearn import preprocessing\n",
        "\n",
        "# load the rider data\n",
        "cycling_data = pd.read_csv('/content/drive/My Drive/cycling_data/rider_data.csv')\n",
        "cycling_data = cycling_data[cycling_data['Rider'] != 'Bjorg Lambrecht ']\n",
        "cycling_data = cycling_data[cycling_data['Rider'] != 'Robbert de Greef ']\n",
        "\n",
        "# Load the GC data\n",
        "gc_winners = pd.read_csv('/content/drive/My Drive/cycling_data/Historical_GC_Classics_Results/gc_winners_consolidated.csv')\n",
        "gc_winners.rename(columns = {'Cyclist':'Rider'}, inplace = True)\n",
        "\n",
        "# Merge the GC winners to the rider data set\n",
        "cycling_data = pd.merge(cycling_data, gc_winners, how='left', on='Rider')\n",
        "\n",
        "# Load in the Monuments data\n",
        "san_remo = pd.read_csv('/content/drive/My Drive/cycling_data/Historical_GC_Classics_Results/san_remo.csv')\n",
        "san_remo = san_remo['san_remo_win'].groupby(san_remo['Rider']).sum()\n",
        "roubaix = pd.read_csv('/content/drive/My Drive/cycling_data/Historical_GC_Classics_Results/roubaix.csv')\n",
        "roubaix = roubaix['roubaix_win'].groupby(roubaix['Rider']).sum()\n",
        "flanders = pd.read_csv('/content/drive/My Drive/cycling_data/Historical_GC_Classics_Results/flanders.csv')\n",
        "flanders = flanders['flanders_win'].groupby(flanders['Rider']).sum()\n",
        "lombardia = pd.read_csv('/content/drive/My Drive/cycling_data/Historical_GC_Classics_Results/lombardia.csv')\n",
        "lombardia = lombardia['lombardia_win'].groupby(lombardia['Rider']).sum()\n",
        "liege = pd.read_csv('/content/drive/My Drive/cycling_data/Historical_GC_Classics_Results/liege.csv')\n",
        "liege = liege['lbl_win'].groupby(liege['Rider']).sum()\n",
        "\n",
        "# Merge the Monuments winners to the rider data set\n",
        "cycling_data = pd.merge(cycling_data, san_remo, how='left', on='Rider')\n",
        "cycling_data = pd.merge(cycling_data, flanders, how='left', on='Rider')\n",
        "cycling_data = pd.merge(cycling_data, liege, how='left', on='Rider')\n",
        "cycling_data = pd.merge(cycling_data, lombardia, how='left', on='Rider')\n",
        "cycling_data = pd.merge(cycling_data, roubaix, how='left', on='Rider')\n",
        "\n",
        "# Replace NaN with 0's\n",
        "cycling_data.fillna(0, inplace=True)\n",
        "\n",
        "# Drop country variable\n",
        "cycling_data = cycling_data.drop(['Country', 'crawl_date'], axis = 1)\n",
        "\n",
        "#cycling_data.head()\n"
      ],
      "execution_count": 0,
      "outputs": []
    },
    {
      "cell_type": "code",
      "metadata": {
        "id": "i3ikLLRzM-ql",
        "colab_type": "code",
        "outputId": "f6c3f41d-feaa-44e1-e12c-8ba55d6e0dcd",
        "colab": {
          "base_uri": "https://localhost:8080/",
          "height": 284
        }
      },
      "source": [
        "# make a df without cyclist name in it for clustering\n",
        "d = cycling_data.drop(['Rider', 'Team'], axis=1)\n",
        "\n",
        "# let's normalize the data\n",
        "d['GC'] = preprocessing.scale(d['GC'])\n",
        "d['Sprint'] = preprocessing.scale(d['Sprint'])\n",
        "d['TT'] = preprocessing.scale(d['TT'])\n",
        "d['Climber'] = preprocessing.scale(d['Climber'])\n",
        "d['Classic'] = preprocessing.scale(d['Classic'])\n",
        "d['Age'] = preprocessing.scale(d['Age'])\n",
        "d['Giro'] = preprocessing.scale(d['Giro'])\n",
        "d['Vuelta'] = preprocessing.scale(d['Vuelta'])\n",
        "d['Tour'] = preprocessing.scale(d['Tour'])\n",
        "d['Total'] = preprocessing.scale(d['Total'])\n",
        "d['san_remo_win'] = preprocessing.scale(d['san_remo_win'])\n",
        "d['lombardia_win'] = preprocessing.scale(d['lombardia_win'])\n",
        "d['flanders_win'] = preprocessing.scale(d['flanders_win'])\n",
        "d['lbl_win'] = preprocessing.scale(d['lbl_win'])\n",
        "d['roubaix_win'] = preprocessing.scale(d['roubaix_win'])\n",
        "\n",
        "# let's go with 6 clusters to start\n",
        "# ultimately decided on 7 but 8 is also very good\n",
        "m = KMeans(7)\n",
        "m.fit(d)\n",
        "\n",
        "# Add to our data frame\n",
        "d['Cluster'] = m.labels_\n",
        "\n",
        "# join back to original data set on index\n",
        "cycling_data2 = pd.merge(cycling_data, d, left_index=True, right_index=True)\n",
        "\n",
        "# Review the data\n",
        "#cycling_data2.head()\n",
        "\n",
        "# Total errors and # of clusters\n",
        "dist_points_from_cluster_center = []\n",
        "K = range(1,12)\n",
        "for no_of_clusters in K:\n",
        "  k_model = KMeans(n_clusters=no_of_clusters)\n",
        "  k_model.fit(d)\n",
        "  dist_points_from_cluster_center.append(k_model.inertia_)\n",
        "plt.plot(K, dist_points_from_cluster_center)\n",
        "# Elbow looks more like at 4 or 6 now\n"
      ],
      "execution_count": 0,
      "outputs": [
        {
          "output_type": "execute_result",
          "data": {
            "text/plain": [
              "[<matplotlib.lines.Line2D at 0x7f62cff91320>]"
            ]
          },
          "metadata": {
            "tags": []
          },
          "execution_count": 9
        },
        {
          "output_type": "display_data",
          "data": {
            "image/png": "[encoded data removed]",
            "text/plain": [
              "<Figure size 432x288 with 1 Axes>"
            ]
          },
          "metadata": {
            "tags": []
          }
        }
      ]
    },
    {
      "cell_type": "code",
      "metadata": {
        "id": "_9kpVeLNSo4a",
        "colab_type": "code",
        "colab": {}
      },
      "source": [
        "# save the output of the data\n",
        "cycling_data2.to_csv('cluster_2.csv', index=False)\n"
      ],
      "execution_count": 0,
      "outputs": []
    },
    {
      "cell_type": "markdown",
      "metadata": {
        "id": "7T5NQKKjzAgV",
        "colab_type": "text"
      },
      "source": [
        "# Conclusions part deux"
      ]
    },
    {
      "cell_type": "markdown",
      "metadata": {
        "id": "PT6JyXAPzFll",
        "colab_type": "text"
      },
      "source": [
        "Essentially 7-8 clusters are best. There is still one large cluster (the Peloton) that has a few up and coming super stars in it. Ideally, I'd love to split them out. \n",
        "\n",
        "Based on what I've seen in the data, once you've been a professional for a while it is much easier to cluster riders.\n",
        "\n",
        "The clusters are generally:\n",
        "\n",
        "\n",
        "1.  Cyclists with a fair amount of points but never won a Grand Tour or Monument. (Getting overall wins will help breakout this cluster)\n",
        "2.  The Peloton mixed with some very good young riders.\n",
        "3.  Vincenzo Nibali & Chris Froome\n",
        "4.  Riders who have a good amount of sprint points and won Monuments (Sagan, GVA, Gilbert)\n",
        "5.  GC winners and GC favorites\n",
        "6.  Alejandro Valverde\n",
        "7.  Really good cyclists that have won San Remo (Alaphilippe, Kristoff, Demare, Kwiatkowski, Degenkolb\n",
        "\n",
        "Generally, the clusters are fairly solid. I think if I had overall wins it would help with the breakouts as well as if I had riders who won other categories in Grand Tours. Clusters 4 & 7 are very similar in some ways.\n"
      ]
    },
    {
      "cell_type": "markdown",
      "metadata": {
        "id": "ABCyh9fkY3A6",
        "colab_type": "text"
      },
      "source": [
        "# Update: Added in more classics and Multi-Stage Grand Tour Warm-ups"
      ]
    },
    {
      "cell_type": "code",
      "metadata": {
        "id": "Qe_S35U9LQOj",
        "colab_type": "code",
        "colab": {}
      },
      "source": [
        "# Mount drive to get cyclist data\n",
        "from google.colab import drive\n",
        "drive.mount('/content/drive')"
      ],
      "execution_count": 0,
      "outputs": []
    },
    {
      "cell_type": "code",
      "metadata": {
        "id": "tmSQYlf5Lm0c",
        "colab_type": "code",
        "colab": {}
      },
      "source": [
        "#-*- coding: UTF-8 -*-\n",
        "# load modules\n",
        "import pandas as pd\n",
        "import matplotlib.pyplot as plt\n",
        "from sklearn.cluster import KMeans\n",
        "from sklearn import preprocessing\n",
        "\n",
        "# load the rider data\n",
        "cycling_data = pd.read_csv('/content/drive/My Drive/cycling_data/rider_data.csv')\n",
        "cycling_data = cycling_data[cycling_data['Rider'] != 'Bjorg Lambrecht ']\n",
        "cycling_data = cycling_data[cycling_data['Rider'] != 'Robbert de Greef ']\n",
        "\n",
        "# Load the GC data\n",
        "gc_winners = pd.read_csv('/content/drive/My Drive/cycling_data/Historical_GC_Classics_Results/gc_winners_consolidated.csv')\n",
        "gc_winners.rename(columns = {'Cyclist':'Rider'}, inplace = True)\n",
        "\n",
        "# Merge the GC winners to the rider data set\n",
        "cycling_data = pd.merge(cycling_data, gc_winners, how='left', on='Rider')\n",
        "\n",
        "# Load in the Monuments data\n",
        "san_remo = pd.read_csv('/content/drive/My Drive/cycling_data/Historical_GC_Classics_Results/san_remo.csv')\n",
        "san_remo = san_remo['san_remo_win'].groupby(san_remo['Rider']).sum()\n",
        "roubaix = pd.read_csv('/content/drive/My Drive/cycling_data/Historical_GC_Classics_Results/roubaix.csv')\n",
        "roubaix = roubaix['roubaix_win'].groupby(roubaix['Rider']).sum()\n",
        "flanders = pd.read_csv('/content/drive/My Drive/cycling_data/Historical_GC_Classics_Results/flanders.csv')\n",
        "flanders = flanders['flanders_win'].groupby(flanders['Rider']).sum()\n",
        "lombardia = pd.read_csv('/content/drive/My Drive/cycling_data/Historical_GC_Classics_Results/lombardia.csv')\n",
        "lombardia = lombardia['lombardia_win'].groupby(lombardia['Rider']).sum()\n",
        "liege = pd.read_csv('/content/drive/My Drive/cycling_data/Historical_GC_Classics_Results/liege.csv')\n",
        "liege = liege['lbl_win'].groupby(liege['Rider']).sum()\n",
        "strade = pd.read_csv('/content/drive/My Drive/cycling_data/Historical_GC_Classics_Results/strade.csv')\n",
        "strade['strade_win'] = 1\n",
        "strade = strade['strade_win'].groupby(strade['Rider']).sum()\n",
        "suisse = pd.read_csv('/content/drive/My Drive/cycling_data/Historical_GC_Classics_Results/suisse.csv')\n",
        "suisse['suisse_win'] = 1\n",
        "suisse = suisse['suisse_win'].groupby(suisse['Rider']).sum()\n",
        "romandie = pd.read_csv('/content/drive/My Drive/cycling_data/Historical_GC_Classics_Results/romandie.csv')\n",
        "romandie['romandie_win'] = 1\n",
        "romandie = romandie['romandie_win'].groupby(romandie['Rider']).sum()\n",
        "paris_nice = pd.read_csv('/content/drive/My Drive/cycling_data/Historical_GC_Classics_Results/paris_nice.csv')\n",
        "paris_nice['paris_nice_win'] = 1\n",
        "paris_nice = paris_nice['paris_nice_win'].groupby(paris_nice['Rider']).sum()\n",
        "gent = pd.read_csv('/content/drive/My Drive/cycling_data/Historical_GC_Classics_Results/gent.csv')\n",
        "gent['gent_win'] = 1\n",
        "gent = gent['gent_win'].groupby(gent['Rider']).sum()\n",
        "fleche = pd.read_csv('/content/drive/My Drive/cycling_data/Historical_GC_Classics_Results/fleche.csv')\n",
        "fleche['fleche_win'] = 1\n",
        "fleche = fleche['fleche_win'].groupby(fleche['Rider']).sum()\n",
        "e3_binckbank = pd.read_csv('/content/drive/My Drive/cycling_data/Historical_GC_Classics_Results/e3_binckbank.csv')\n",
        "e3_binckbank['e3_binckbank_win'] = 1\n",
        "e3_binckbank = e3_binckbank['e3_binckbank_win'].groupby(e3_binckbank['Rider']).sum()\n",
        "dauphine = pd.read_csv('/content/drive/My Drive/cycling_data/Historical_GC_Classics_Results/dauphine.csv')\n",
        "dauphine['dauphine_win'] = 1\n",
        "dauphine = dauphine['dauphine_win'].groupby(dauphine['Rider']).sum()\n",
        "amstel = pd.read_csv('/content/drive/My Drive/cycling_data/Historical_GC_Classics_Results/amstel.csv')\n",
        "amstel['amstel_win'] = 1\n",
        "amstel = amstel['amstel_win'].groupby(amstel['Rider']).sum()\n",
        "\n",
        "\n",
        "# Merge the Monuments winners to the rider data set\n",
        "cycling_data = pd.merge(cycling_data, san_remo, how='left', on='Rider')\n",
        "cycling_data = pd.merge(cycling_data, flanders, how='left', on='Rider')\n",
        "cycling_data = pd.merge(cycling_data, liege, how='left', on='Rider')\n",
        "cycling_data = pd.merge(cycling_data, lombardia, how='left', on='Rider')\n",
        "cycling_data = pd.merge(cycling_data, roubaix, how='left', on='Rider')\n",
        "cycling_data = pd.merge(cycling_data, strade, how='left', on='Rider')\n",
        "cycling_data = pd.merge(cycling_data, suisse, how='left', on='Rider')\n",
        "cycling_data = pd.merge(cycling_data, fleche, how='left', on='Rider')\n",
        "cycling_data = pd.merge(cycling_data, gent, how='left', on='Rider')\n",
        "cycling_data = pd.merge(cycling_data, paris_nice, how='left', on='Rider')\n",
        "cycling_data = pd.merge(cycling_data, e3_binckbank, how='left', on='Rider')\n",
        "cycling_data = pd.merge(cycling_data, amstel, how='left', on='Rider')\n",
        "cycling_data = pd.merge(cycling_data, dauphine, how='left', on='Rider')\n",
        "cycling_data = pd.merge(cycling_data, romandie, how='left', on='Rider')\n",
        "\n",
        "# Replace NaN with 0's\n",
        "cycling_data.fillna(0, inplace=True)\n",
        "\n",
        "# Drop country variable\n",
        "cycling_data = cycling_data.drop(['Country', 'crawl_date'], axis = 1)\n"
      ],
      "execution_count": 0,
      "outputs": []
    },
    {
      "cell_type": "code",
      "metadata": {
        "id": "3GFPUpZ0NwT7",
        "colab_type": "code",
        "colab": {
          "base_uri": "https://localhost:8080/",
          "height": 284
        },
        "outputId": "f8d4b82e-0b0d-4e73-d954-8861602b0a6b"
      },
      "source": [
        "\n",
        "# This would be the best approach to removing special characters\n",
        "#dictionary = {'ž':'z', 'č':'c', 'ü':'u', 'á':'a', 'é':'e', 'ö':'o', 'ó':'o', 'ç':'c',\n",
        "#              'ń':'ń', 'í':'i', 'è':'e'}\n",
        "#cycling_data.replace(dictionary, regex=True, inplace=True)\n",
        "\n",
        "# make a df without cyclist name in it for clustering\n",
        "d = cycling_data.drop(['Rider', 'Team'], axis=1)\n",
        "\n",
        "# let's normalize the data\n",
        "d['GC'] = preprocessing.scale(d['GC'])\n",
        "d['Sprint'] = preprocessing.scale(d['Sprint'])\n",
        "d['TT'] = preprocessing.scale(d['TT'])\n",
        "d['Climber'] = preprocessing.scale(d['Climber'])\n",
        "d['Classic'] = preprocessing.scale(d['Classic'])\n",
        "d['Age'] = preprocessing.scale(d['Age'])\n",
        "d['Giro'] = preprocessing.scale(d['Giro'])\n",
        "d['Vuelta'] = preprocessing.scale(d['Vuelta'])\n",
        "d['Tour'] = preprocessing.scale(d['Tour'])\n",
        "d['Total'] = preprocessing.scale(d['Total'])\n",
        "d['san_remo_win'] = preprocessing.scale(d['san_remo_win'])\n",
        "d['lombardia_win'] = preprocessing.scale(d['lombardia_win'])\n",
        "d['flanders_win'] = preprocessing.scale(d['flanders_win'])\n",
        "d['lbl_win'] = preprocessing.scale(d['lbl_win'])\n",
        "d['roubaix_win'] = preprocessing.scale(d['roubaix_win'])\n",
        "d['strade_win'] = preprocessing.scale(d['strade_win'])\n",
        "d['suisse_win'] = preprocessing.scale(d['suisse_win'])\n",
        "d['fleche_win'] = preprocessing.scale(d['fleche_win'])\n",
        "d['gent_win'] = preprocessing.scale(d['gent_win'])\n",
        "d['paris_nice_win'] = preprocessing.scale(d['paris_nice_win'])\n",
        "d['e3_binckbank_win'] = preprocessing.scale(d['e3_binckbank_win'])\n",
        "d['amstel_win'] = preprocessing.scale(d['amstel_win'])\n",
        "d['dauphine_win'] = preprocessing.scale(d['dauphine_win'])\n",
        "d['romandie_win'] = preprocessing.scale(d['romandie_win'])\n",
        "\n",
        "# let's go with 6 clusters to start\n",
        "# ultimately decided on 8\n",
        "m = KMeans(8)\n",
        "m.fit(d)\n",
        "\n",
        "# Add to our data frame\n",
        "d['Cluster'] = m.labels_\n",
        "\n",
        "# join back to original data set on index\n",
        "cycling_data2 = pd.merge(cycling_data, d, left_index=True, right_index=True)\n",
        "\n",
        "# Review the data\n",
        "#cycling_data2.head()\n",
        "\n",
        "# Total errors and # of clusters\n",
        "dist_points_from_cluster_center = []\n",
        "K = range(1,12)\n",
        "for no_of_clusters in K:\n",
        "  k_model = KMeans(n_clusters=no_of_clusters)\n",
        "  k_model.fit(d)\n",
        "  dist_points_from_cluster_center.append(k_model.inertia_)\n",
        "plt.plot(K, dist_points_from_cluster_center)\n",
        "# Elbow looks more like at 5"
      ],
      "execution_count": 18,
      "outputs": [
        {
          "output_type": "execute_result",
          "data": {
            "text/plain": [
              "[<matplotlib.lines.Line2D at 0x7fe1e65b1d68>]"
            ]
          },
          "metadata": {
            "tags": []
          },
          "execution_count": 18
        },
        {
          "output_type": "display_data",
          "data": {
            "image/png": "[encoded data removed]",
            "text/plain": [
              "<Figure size 432x288 with 1 Axes>"
            ]
          },
          "metadata": {
            "tags": []
          }
        }
      ]
    },
    {
      "cell_type": "code",
      "metadata": {
        "id": "V3d04fbK7Wma",
        "colab_type": "code",
        "colab": {}
      },
      "source": [
        "# save the output of the data\n",
        "cycling_data2.to_csv('cluster_2.csv', index=False)"
      ],
      "execution_count": 0,
      "outputs": []
    }
  ]
}