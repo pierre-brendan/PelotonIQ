{
 "nbformat": 4,
 "nbformat_minor": 2,
 "metadata": {
  "language_info": {
   "name": "python",
   "codemirror_mode": {
    "name": "ipython",
    "version": 3
   },
   "version": "3.7.6-final"
  },
  "orig_nbformat": 2,
  "file_extension": ".py",
  "mimetype": "text/x-python",
  "name": "python",
  "npconvert_exporter": "python",
  "pygments_lexer": "ipython3",
  "version": 3,
  "kernelspec": {
   "name": "python37664bitvenvvirtualenvb830687b476d4ba48ede3bd0b08c4782",
   "display_name": "Python 3.7.6 64-bit ('venv': virtualenv)"
  }
 },
 "cells": [
  {
   "cell_type": "code",
   "execution_count": 324,
   "metadata": {},
   "outputs": [],
   "source": [
    "import pandas as pd\n",
    "import os\n",
    "from bokeh.io import output_file, show\n",
    "from bokeh.models import ColumnDataSource, HoverTool\n",
    "from bokeh.models.widgets import Select\n",
    "from bokeh.plotting import figure"
   ]
  },
  {
   "cell_type": "code",
   "execution_count": 325,
   "metadata": {},
   "outputs": [
    {
     "name": "stdout",
     "output_type": "stream",
     "text": "GC      TT  Sprint  Climber  Classic\nAge                                          \n19     64.0    18.0   136.0      0.0     26.0\n20    105.0    64.0    59.0     46.0     47.0\n21    150.0    86.0   200.0     92.0     87.0\n22    160.0    70.0   242.0     79.0     96.0\n23    196.0    89.0   287.0    133.0    153.0\n24    212.0   102.0   183.0    147.0    150.0\n25    246.0   116.0   545.0    184.0    368.0\n26    330.0   151.0   603.0    239.0    340.0\n27    624.0   254.0   645.0    514.0    533.0\n28    505.0   308.0   674.0    316.0    442.0\n29    869.0   447.0  1114.0    765.0    921.0\n30    884.0   373.0  1115.0    764.0    738.0\n31    694.0   423.0  1656.0    451.0    996.0\n32   1117.0   482.0  1608.0    752.0    982.0\n33   1693.0   599.0   903.0   1412.0   1044.0\n34   1469.0  1006.0  1523.0    978.0   1397.0\n35   1732.0   746.0  1225.0   1220.0   1274.0\n36   1105.0   429.0  1330.0    687.0    870.0\n37   2447.0   799.0  3721.0   1939.0   3399.0\n38   1526.0   623.0   650.0    651.0    664.0\n39   5497.0  2240.0  2944.0   5554.0   5041.0\n40   1809.0   777.0  1400.0    508.0    653.0\n43   5174.0  1938.0  2900.0   2648.0   1212.0\n"
    }
   ],
   "source": [
    "data = pd.read_csv(os.path.dirname(os.getcwd()) + '/data_files/rider_data.csv', index_col=False)\n",
    "# replace strings with 0\n",
    "data['Age'] = data['Age'].apply(lambda x: 0 if 'Date' in x else x).astype(int)\n",
    "\n",
    "# remove rows with 0 from our dataset\n",
    "data = data[data['Age'] != 0]\n",
    "\n",
    "# group the data and classify it for bokeh viz\n",
    "grouped_data = data.groupby('Age').mean().round(0)\n",
    "source = ColumnDataSource(grouped_data)"
   ]
  },
  {
   "cell_type": "code",
   "execution_count": 326,
   "metadata": {},
   "outputs": [],
   "source": [
    "# output_file(\"rider_data.html\")\n"
   ]
  },
  {
   "cell_type": "code",
   "execution_count": 327,
   "metadata": {},
   "outputs": [
    {
     "data": {
      "text/html": "<div style=\"display: table;\"><div style=\"display: table-row;\"><div style=\"display: table-cell;\"><b title=\"bokeh.models.renderers.GlyphRenderer\">GlyphRenderer</b>(</div><div style=\"display: table-cell;\">id&nbsp;=&nbsp;'5922', <span id=\"5925\" style=\"cursor: pointer;\">&hellip;)</span></div></div><div class=\"5924\" style=\"display: none;\"><div style=\"display: table-cell;\"></div><div style=\"display: table-cell;\">data_source&nbsp;=&nbsp;ColumnDataSource(id='5884', ...),</div></div><div class=\"5924\" style=\"display: none;\"><div style=\"display: table-cell;\"></div><div style=\"display: table-cell;\">glyph&nbsp;=&nbsp;Square(id='5920', ...),</div></div><div class=\"5924\" style=\"display: none;\"><div style=\"display: table-cell;\"></div><div style=\"display: table-cell;\">hover_glyph&nbsp;=&nbsp;None,</div></div><div class=\"5924\" style=\"display: none;\"><div style=\"display: table-cell;\"></div><div style=\"display: table-cell;\">js_event_callbacks&nbsp;=&nbsp;{},</div></div><div class=\"5924\" style=\"display: none;\"><div style=\"display: table-cell;\"></div><div style=\"display: table-cell;\">js_property_callbacks&nbsp;=&nbsp;{},</div></div><div class=\"5924\" style=\"display: none;\"><div style=\"display: table-cell;\"></div><div style=\"display: table-cell;\">level&nbsp;=&nbsp;'glyph',</div></div><div class=\"5924\" style=\"display: none;\"><div style=\"display: table-cell;\"></div><div style=\"display: table-cell;\">muted&nbsp;=&nbsp;False,</div></div><div class=\"5924\" style=\"display: none;\"><div style=\"display: table-cell;\"></div><div style=\"display: table-cell;\">muted_glyph&nbsp;=&nbsp;None,</div></div><div class=\"5924\" style=\"display: none;\"><div style=\"display: table-cell;\"></div><div style=\"display: table-cell;\">name&nbsp;=&nbsp;None,</div></div><div class=\"5924\" style=\"display: none;\"><div style=\"display: table-cell;\"></div><div style=\"display: table-cell;\">nonselection_glyph&nbsp;=&nbsp;Square(id='5921', ...),</div></div><div class=\"5924\" style=\"display: none;\"><div style=\"display: table-cell;\"></div><div style=\"display: table-cell;\">selection_glyph&nbsp;=&nbsp;None,</div></div><div class=\"5924\" style=\"display: none;\"><div style=\"display: table-cell;\"></div><div style=\"display: table-cell;\">subscribed_events&nbsp;=&nbsp;[],</div></div><div class=\"5924\" style=\"display: none;\"><div style=\"display: table-cell;\"></div><div style=\"display: table-cell;\">tags&nbsp;=&nbsp;[],</div></div><div class=\"5924\" style=\"display: none;\"><div style=\"display: table-cell;\"></div><div style=\"display: table-cell;\">view&nbsp;=&nbsp;CDSView(id='5923', ...),</div></div><div class=\"5924\" style=\"display: none;\"><div style=\"display: table-cell;\"></div><div style=\"display: table-cell;\">visible&nbsp;=&nbsp;True,</div></div><div class=\"5924\" style=\"display: none;\"><div style=\"display: table-cell;\"></div><div style=\"display: table-cell;\">x_range_name&nbsp;=&nbsp;'default',</div></div><div class=\"5924\" style=\"display: none;\"><div style=\"display: table-cell;\"></div><div style=\"display: table-cell;\">y_range_name&nbsp;=&nbsp;'default')</div></div></div>\n<script>\n(function() {\n  var expanded = false;\n  var ellipsis = document.getElementById(\"5925\");\n  ellipsis.addEventListener(\"click\", function() {\n    var rows = document.getElementsByClassName(\"5924\");\n    for (var i = 0; i < rows.length; i++) {\n      var el = rows[i];\n      el.style.display = expanded ? \"none\" : \"table-row\";\n    }\n    ellipsis.innerHTML = expanded ? \"&hellip;)\" : \"&lsaquo;&lsaquo;&lsaquo;\";\n    expanded = !expanded;\n  });\n})();\n</script>\n",
      "text/plain": "GlyphRenderer(id='5922', ...)"
     },
     "execution_count": 327,
     "metadata": {},
     "output_type": "execute_result"
    }
   ],
   "source": [
    "p = figure(plot_width=700, plot_height=500, toolbar_location=\"right\", title=\"Perfomance by Age\")\n",
    "p.square(x='Age', y='GC', source=source, size=5)"
   ]
  },
  {
   "cell_type": "code",
   "execution_count": 328,
   "metadata": {},
   "outputs": [],
   "source": [
    "p.xaxis.axis_label = 'Age (Years)'\n",
    "p.yaxis.axis_label = 'Average GC'"
   ]
  },
  {
   "cell_type": "code",
   "execution_count": 329,
   "metadata": {},
   "outputs": [],
   "source": [
    "hover_tool = HoverTool(tooltips=[('Age', '@Age'),('GC', '@GC'),(\"Sprint\", \"@Sprint\"), (\"Climber\", \"@Climber\")])\n",
    "p.add_tools(hover_tool)\n",
    "\n",
    "# select = Select(title=\"Team:\", options='@Team', source=source)\n"
   ]
  },
  {
   "cell_type": "code",
   "execution_count": 330,
   "metadata": {},
   "outputs": [],
   "source": [
    "show(p)"
   ]
  },
  {
   "cell_type": "code",
   "execution_count": null,
   "metadata": {},
   "outputs": [],
   "source": []
  }
 ]
}