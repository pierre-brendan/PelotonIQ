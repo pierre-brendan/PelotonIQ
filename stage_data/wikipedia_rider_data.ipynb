{
  "nbformat": 4,
  "nbformat_minor": 0,
  "metadata": {
    "colab": {
      "name": "wikipedia_rider_data.ipynb",
      "provenance": [],
      "collapsed_sections": [],
      "authorship_tag": "ABX9TyO14+kTsAJoo/QTZ6HQigk4",
      "include_colab_link": true
    },
    "kernelspec": {
      "name": "python3",
      "display_name": "Python 3"
    }
  },
  "cells": [
    {
      "cell_type": "markdown",
      "metadata": {
        "id": "view-in-github",
        "colab_type": "text"
      },
      "source": [
        "<a href=\"https://colab.research.google.com/github/pierre-brendan/PelotonIQ/blob/master/stage_data/wikipedia_rider_data.ipynb\" target=\"_parent\"><img src=\"https://colab.research.google.com/assets/colab-badge.svg\" alt=\"Open In Colab\"/></a>"
      ]
    },
    {
      "cell_type": "markdown",
      "metadata": {
        "id": "l3N4r_MOWK2N",
        "colab_type": "text"
      },
      "source": [
        "Wikipedia is a great source for some cycling data like Monuments wins by year"
      ]
    },
    {
      "cell_type": "markdown",
      "metadata": {
        "id": "BK0SmPpbIfQc",
        "colab_type": "text"
      },
      "source": [
        "**San Remo**"
      ]
    },
    {
      "cell_type": "code",
      "metadata": {
        "id": "EbuKiy4S-gmQ",
        "colab_type": "code",
        "colab": {}
      },
      "source": [
        "# import packages\n",
        "from bs4 import BeautifulSoup\n",
        "import requests\n",
        "import pandas as pd\n",
        "import re"
      ],
      "execution_count": 0,
      "outputs": []
    },
    {
      "cell_type": "code",
      "metadata": {
        "id": "WG9KNwojWGeB",
        "colab_type": "code",
        "colab": {}
      },
      "source": [
        "# start with Milan-San Remo\n",
        "url = 'https://en.wikipedia.org/wiki/Milan%E2%80%93San_Remo'\n",
        "html = requests.get(url).text\n",
        "soup = BeautifulSoup(html, 'html5lib')\n",
        "# Milan San Remo\n",
        "tables = soup.find('table', class_='sortable')\n",
        "links = tables.find_all('a')\n",
        "\n",
        "Year = []\n",
        "for link in links:\n",
        "    Year.append(link.get('title'))\n",
        "\n",
        "df = pd.DataFrame()\n",
        "df['tmp'] = Year\n",
        "df = df[-200:] \n",
        "year = df.iloc[::4, :]\n",
        "year['c'] = range(len(year))\n",
        "country = df.iloc[1::4, :]\n",
        "country['c'] = range(len(country))\n",
        "rider = df.iloc[2::4, :]\n",
        "rider['c'] = range(len(rider))\n",
        "team = df.iloc[3::4, :]\n",
        "team['c'] = range(len(team))\n",
        "\n",
        "# join the columns\n",
        "san_remo = pd.merge(year, rider, how='left', on='c')\n",
        "san_remo = pd.merge(san_remo, team, how='left', on='c')\n",
        "\n",
        "\n",
        "# Rename the columns\n",
        "san_remo.columns = ['Year', 'c', 'Rider','Team']\n",
        "san_remo = pd.DataFrame(san_remo)\n",
        "\n",
        "# Drop the 'C' column\n",
        "san_remo.drop(['c'], axis=1, inplace=True)\n",
        "\n",
        "# remove (cyclist) from names\n",
        "san_remo['Rider'] = san_remo['Rider'].str.replace(r\"\\(.*\\)\",\"\")\n",
        "san_remo['Team'] = san_remo['Team'].str.replace(r\"\\(.*\\)\",\"\")\n",
        "\n",
        "# add a binary variable for the winners\n",
        "san_remo['san_remo_win'] = 1\n",
        "\n",
        "# save the file\n",
        "#san_remo.to_csv('san_remo.csv', index=False, encoding='utf-8')"
      ],
      "execution_count": 0,
      "outputs": []
    },
    {
      "cell_type": "markdown",
      "metadata": {
        "id": "oGsh_0uZIqCl",
        "colab_type": "text"
      },
      "source": [
        "**Flanders**"
      ]
    },
    {
      "cell_type": "code",
      "metadata": {
        "id": "cZf9elP9XIzQ",
        "colab_type": "code",
        "colab": {}
      },
      "source": [
        "# Flanders\n",
        "url = 'https://en.wikipedia.org/wiki/Tour_of_Flanders'\n",
        "html = requests.get(url).text\n",
        "soup = BeautifulSoup(html, 'html5lib')\n",
        "tables = soup.find('table', class_='sortable')\n",
        "links = tables.find_all('a')\n",
        "\n",
        "Year = []\n",
        "for link in links:\n",
        "    Year.append(link.get('title'))\n",
        "\n",
        "df = pd.DataFrame()\n",
        "df['tmp'] = Year\n",
        "df = df[-200:] \n",
        "year = df.iloc[::4, :]\n",
        "year['c'] = range(len(year))\n",
        "country = df.iloc[1::4, :]\n",
        "country['c'] = range(len(country))\n",
        "rider = df.iloc[2::4, :]\n",
        "rider['c'] = range(len(rider))\n",
        "team = df.iloc[3::4, :]\n",
        "team['c'] = range(len(team))\n",
        "\n",
        "# join the columns\n",
        "flanders = pd.merge(year, rider, how='left', on='c')\n",
        "flanders = pd.merge(flanders, team, how='left', on='c')\n",
        "\n",
        "# Rename the columns\n",
        "flanders.columns = ['Year', 'c', 'Rider','Team']\n",
        "flanders = pd.DataFrame(flanders)\n",
        "\n",
        "# Drop the 'C' column\n",
        "flanders.drop(['c'], axis=1, inplace=True)\n",
        "\n",
        "# remove (cyclist) from names\n",
        "flanders['Rider'] = flanders['Rider'].str.replace(r\"\\(.*\\)\",\"\")\n",
        "flanders['Team'] = flanders['Team'].str.replace(r\"\\(.*\\)\",\"\")\n",
        "\n",
        "# add a binary variable for the winners\n",
        "flanders['flanders_win'] = 1\n",
        "\n",
        "# save the file\n",
        "#san_remo.to_csv('san_remo.csv', index=False, encoding='utf-8')\n"
      ],
      "execution_count": 0,
      "outputs": []
    },
    {
      "cell_type": "markdown",
      "metadata": {
        "id": "V0pz6X71JhaM",
        "colab_type": "text"
      },
      "source": [
        "**Paris–Roubaix**"
      ]
    },
    {
      "cell_type": "code",
      "metadata": {
        "id": "P0QBQhecJOg1",
        "colab_type": "code",
        "colab": {}
      },
      "source": [
        "# roubaix\n",
        "url = 'https://en.wikipedia.org/wiki/Paris%E2%80%93Roubaix'\n",
        "html = requests.get(url).text\n",
        "soup = BeautifulSoup(html, 'html5lib')\n",
        "\n",
        "tables = soup.find('table', class_='sortable')\n",
        "links = tables.find_all('a')\n",
        "\n",
        "Year = []\n",
        "for link in links:\n",
        "    Year.append(link.get('title'))\n",
        "\n",
        "df = pd.DataFrame()\n",
        "df['tmp'] = Year\n",
        "df = df[-140:] \n",
        "year = df.iloc[::4, :]\n",
        "year['c'] = range(len(year))\n",
        "country = df.iloc[1::4, :]\n",
        "country['c'] = range(len(country))\n",
        "rider = df.iloc[2::4, :]\n",
        "rider['c'] = range(len(rider))\n",
        "team = df.iloc[3::4, :]\n",
        "team['c'] = range(len(team))\n",
        "\n",
        "# join the columns\n",
        "roubaix = pd.merge(year, rider, how='left', on='c')\n",
        "roubaix = pd.merge(roubaix, team, how='left', on='c')\n",
        "\n",
        "\n",
        "# Rename the columns\n",
        "roubaix.columns = ['Year', 'c', 'Rider','Team']\n",
        "roubaix = pd.DataFrame(roubaix)\n",
        "\n",
        "# Drop the 'C' column\n",
        "roubaix.drop(['c'], axis=1, inplace=True)\n",
        "\n",
        "# remove (cyclist) from names\n",
        "roubaix['Rider'] = roubaix['Rider'].str.replace(r\"\\(.*\\)\",\"\")\n",
        "roubaix['Team'] = roubaix['Team'].str.replace(r\"\\(.*\\)\",\"\")\n",
        "\n",
        "# add a binary variable for the winners\n",
        "roubaix['roubaix_win'] = 1\n",
        "\n",
        "# save the file\n",
        "#san_remo.to_csv('san_remo.csv', index=False, encoding='utf-8')"
      ],
      "execution_count": 0,
      "outputs": []
    },
    {
      "cell_type": "markdown",
      "metadata": {
        "id": "2_xtdRA89-0H",
        "colab_type": "text"
      },
      "source": [
        "**Liege**"
      ]
    },
    {
      "cell_type": "code",
      "metadata": {
        "id": "KQTBV4luKE9o",
        "colab_type": "code",
        "colab": {}
      },
      "source": [
        "# LBL\n",
        "url = 'https://en.wikipedia.org/wiki/Li%C3%A8ge%E2%80%93Bastogne%E2%80%93Li%C3%A8ge'\n",
        "html = requests.get(url).text\n",
        "soup = BeautifulSoup(html, 'html5lib')\n",
        "\n",
        "tables = soup.find('table', class_='sortable')\n",
        "links = tables.find_all('a')\n",
        "\n",
        "Year = []\n",
        "for link in links:\n",
        "    Year.append(link.get('title'))\n",
        "\n",
        "df = pd.DataFrame()\n",
        "df['tmp'] = Year\n",
        "df = df[-140:] \n",
        "year = df.iloc[::4, :]\n",
        "year['c'] = range(len(year))\n",
        "country = df.iloc[1::4, :]\n",
        "country['c'] = range(len(country))\n",
        "rider = df.iloc[2::4, :]\n",
        "rider['c'] = range(len(rider))\n",
        "team = df.iloc[3::4, :]\n",
        "team['c'] = range(len(team))\n",
        "\n",
        "# join the columns\n",
        "lbl = pd.merge(year, rider, how='left', on='c')\n",
        "lbl = pd.merge(lbl, team, how='left', on='c')\n",
        "\n",
        "\n",
        "# Rename the columns\n",
        "lbl.columns = ['Year', 'c', 'Rider','Team']\n",
        "lbl = pd.DataFrame(lbl)\n",
        "\n",
        "# Drop the 'C' column\n",
        "lbl.drop(['c'], axis=1, inplace=True)\n",
        "\n",
        "# remove (cyclist) from names\n",
        "lbl['Rider'] = lbl['Rider'].str.replace(r\"\\(.*\\)\",\"\")\n",
        "lbl['Team'] = lbl['Team'].str.replace(r\"\\(.*\\)\",\"\")\n",
        "\n",
        "# add a binary variable for the winners\n",
        "lbl['lbl_win'] = 1\n",
        "\n",
        "# save the file\n",
        "#san_remo.to_csv('san_remo.csv', index=False, encoding='utf-8')"
      ],
      "execution_count": 0,
      "outputs": []
    },
    {
      "cell_type": "markdown",
      "metadata": {
        "id": "rIBOm-56_UeU",
        "colab_type": "text"
      },
      "source": [
        "**Lombardia**"
      ]
    },
    {
      "cell_type": "code",
      "metadata": {
        "id": "HLN6K2pi_Tvz",
        "colab_type": "code",
        "colab": {}
      },
      "source": [
        "# lombardia\n",
        "url = 'https://en.wikipedia.org/wiki/Giro_di_Lombardia'\n",
        "html = requests.get(url).text\n",
        "soup = BeautifulSoup(html, 'html5lib')\n",
        "\n",
        "tables = soup.find('table', class_='sortable')\n",
        "links = tables.find_all('a')\n",
        "\n",
        "Year = []\n",
        "for link in links:\n",
        "    Year.append(link.get('title'))\n",
        "\n",
        "df = pd.DataFrame()\n",
        "df['tmp'] = Year\n",
        "df = df[-140:] \n",
        "year = df.iloc[::4, :]\n",
        "year['c'] = range(len(year))\n",
        "country = df.iloc[1::4, :]\n",
        "country['c'] = range(len(country))\n",
        "rider = df.iloc[2::4, :]\n",
        "rider['c'] = range(len(rider))\n",
        "team = df.iloc[3::4, :]\n",
        "team['c'] = range(len(team))\n",
        "\n",
        "# join the columns\n",
        "lombardia = pd.merge(year, rider, how='left', on='c')\n",
        "lombardia = pd.merge(lombardia, team, how='left', on='c')\n",
        "\n",
        "\n",
        "# Rename the columns\n",
        "lombardia.columns = ['Year', 'c', 'Rider','Team']\n",
        "lombardia = pd.DataFrame(lombardia)\n",
        "\n",
        "# Drop the 'C' column\n",
        "lombardia.drop(['c'], axis=1, inplace=True)\n",
        "\n",
        "# remove (cyclist) from names\n",
        "lombardia['Rider'] = lombardia['Rider'].str.replace(r\"\\(.*\\)\",\"\")\n",
        "lombardia['Team'] = lombardia['Team'].str.replace(r\"\\(.*\\)\",\"\")\n",
        "\n",
        "# add a binary variable for the winners\n",
        "lombardia['lombardia_win'] = 1\n",
        "\n",
        "# save the file\n",
        "#san_remo.to_csv('san_remo.csv', index=False, encoding='utf-8')"
      ],
      "execution_count": 0,
      "outputs": []
    },
    {
      "cell_type": "code",
      "metadata": {
        "id": "3TlrcRwL-2Bt",
        "colab_type": "code",
        "colab": {}
      },
      "source": [
        "lombardia"
      ],
      "execution_count": 0,
      "outputs": []
    },
    {
      "cell_type": "markdown",
      "metadata": {
        "id": "dPJi8ZejWp-M",
        "colab_type": "text"
      },
      "source": [
        "# Let's get GC winners from the Grand Tours"
      ]
    },
    {
      "cell_type": "code",
      "metadata": {
        "id": "qVne0lVpWvhC",
        "colab_type": "code",
        "colab": {}
      },
      "source": [
        "# TDF\n",
        "url = 'https://en.wikipedia.org/wiki/List_of_Tour_de_France_general_classification_winners'\n",
        "html = requests.get(url).text\n",
        "soup = BeautifulSoup(html, 'html5lib')\n",
        "tables = soup.find('table', class_='sortable')\n",
        "links = tables.find_all('a')\n",
        "\n",
        "Year = []\n",
        "for link in links:\n",
        "    Year.append(link.get('title'))\n",
        "\n",
        "df = pd.DataFrame()\n",
        "df['tmp'] = Year\n",
        "df = df[-200:] \n",
        "year = df.iloc[::4, :]\n",
        "year['c'] = range(len(year))\n",
        "country = df.iloc[1::4, :]\n",
        "country['c'] = range(len(country))\n",
        "rider = df.iloc[2::4, :]\n",
        "rider['c'] = range(len(rider))\n",
        "team = df.iloc[3::4, :]\n",
        "team['c'] = range(len(team))\n",
        "\n",
        "# join the columns\n",
        "tdf = pd.merge(year, rider, how='left', on='c')\n",
        "tdf = pd.merge(tdf, team, how='left', on='c')\n",
        "\n",
        "# Rename the columns\n",
        "tdf.columns = ['Year', 'c', 'Rider','Team']\n",
        "tdf = pd.DataFrame(tdf)\n",
        "\n",
        "# Drop the 'C' column\n",
        "tdf.drop(['c'], axis=1, inplace=True)\n",
        "\n",
        "# remove (cyclist) from names\n",
        "tdf['Rider'] = tdf['Rider'].str.replace(r\"\\(.*\\)\",\"\")\n",
        "tdf['Team'] = tdf['Team'].str.replace(r\"\\(.*\\)\",\"\")\n",
        "\n",
        "# add a binary variable for the winners\n",
        "tdf['tdf_win'] = 1\n",
        "\n",
        "# Let's only do the last 9 years since it gets all messed up\n",
        "tdf = tdf.tail(9)\n",
        "\n",
        "# save the file\n",
        "#san_remo.to_csv('san_remo.csv', index=False, encoding='utf-8')"
      ],
      "execution_count": 0,
      "outputs": []
    },
    {
      "cell_type": "code",
      "metadata": {
        "id": "OmZFHgr5aw7p",
        "colab_type": "code",
        "colab": {}
      },
      "source": [
        "# Giro d'italia\n",
        "# giro\n",
        "url = 'https://en.wikipedia.org/wiki/List_of_Giro_d%27Italia_general_classification_winners'\n",
        "html = requests.get(url).text\n",
        "soup = BeautifulSoup(html, 'html5lib')\n",
        "tables = soup.find('table', class_='sortable')\n",
        "links = tables.find_all('a')\n",
        "\n",
        "Year = []\n",
        "for link in links:\n",
        "    Year.append(link.get('title'))\n",
        "\n",
        "df = pd.DataFrame()\n",
        "df['tmp'] = Year\n",
        "df = df[-200:] \n",
        "year = df.iloc[::4, :]\n",
        "year['c'] = range(len(year))\n",
        "country = df.iloc[1::4, :]\n",
        "country['c'] = range(len(country))\n",
        "rider = df.iloc[2::4, :]\n",
        "rider['c'] = range(len(rider))\n",
        "team = df.iloc[3::4, :]\n",
        "team['c'] = range(len(team))\n",
        "\n",
        "# join the columns\n",
        "giro = pd.merge(year, rider, how='left', on='c')\n",
        "giro = pd.merge(giro, team, how='left', on='c')\n",
        "\n",
        "# Rename the columns\n",
        "giro.columns = ['Year', 'c', 'Rider','Team']\n",
        "giro = pd.DataFrame(giro)\n",
        "\n",
        "# Drop the 'C' column\n",
        "giro.drop(['c'], axis=1, inplace=True)\n",
        "\n",
        "# remove (cyclist) from names\n",
        "giro['Rider'] = giro['Rider'].str.replace(r\"\\(.*\\)\",\"\")\n",
        "giro['Team'] = giro['Team'].str.replace(r\"\\(.*\\)\",\"\")\n",
        "\n",
        "# add a binary variable for the winners\n",
        "giro['giro_win'] = 1\n",
        "\n",
        "# Let's only do the last 8 years since it gets all messed up\n",
        "giro = giro.tail(8)\n",
        "\n",
        "# save the file\n",
        "#san_remo.to_csv('san_remo.csv', index=False, encoding='utf-8')"
      ],
      "execution_count": 0,
      "outputs": []
    },
    {
      "cell_type": "code",
      "metadata": {
        "id": "TKEFls2XXTys",
        "colab_type": "code",
        "colab": {}
      },
      "source": [
        "giro"
      ],
      "execution_count": 0,
      "outputs": []
    }
  ]
}